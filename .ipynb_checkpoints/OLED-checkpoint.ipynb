{
 "cells": [
  {
   "cell_type": "markdown",
   "id": "0c2a4b8f",
   "metadata": {},
   "source": [
    "# OLED"
   ]
  },
  {
   "cell_type": "markdown",
   "id": "6f42225e",
   "metadata": {},
   "source": [
    "## Ubuntu:"
   ]
  },
  {
   "cell_type": "code",
   "execution_count": null,
   "id": "9575356c",
   "metadata": {
    "scrolled": false
   },
   "outputs": [],
   "source": [
    "import cv2\n",
    "import matplotlib.pyplot as plt\n",
    "import os\n",
    "\n",
    "path=input(\"Enter image name: \")\n",
    "thr=int(input(\"Enter threshold: \"))\n",
    "\n",
    "#read image\n",
    "img=cv2.imread(path,cv2.IMREAD_GRAYSCALE)\n",
    "img=cv2.resize(img,(128,64))\n",
    "img2=img.copy()\n",
    "\n",
    "#convert image to binary image\n",
    "for i in range(img.shape[0]):\n",
    "    for j in range(img.shape[1]):\n",
    "        if(img[i,j]>thr):\n",
    "            img[i,j]=255\n",
    "            img2[i,j]=1\n",
    "        else:\n",
    "            img[i,j]=0\n",
    "            img2[i,j]=0\n",
    "\n",
    "#show processed image\n",
    "print(\"Preview: \")\n",
    "imgplot1 = plt.imshow(cv2.cvtColor(img, cv2.COLOR_BGR2RGB))\n",
    "plt.show()\n",
    "\n",
    "#Open verilog file\n",
    "Vfile = open(\"OLED.v\",\"r+\")              #Open OLED.v file in R+ (Read and write) mode\n",
    "data = Vfile.read()                      #Read OLED module from the file\n",
    "ptr = data.find(\"defparam Mem2.INIT_F\")\n",
    "Vfile.seek(ptr)                         #Place the pointer after OLED module\n",
    "\n",
    "#write memory configuration\n",
    "num=31\n",
    "for k in range(0,8):\n",
    "    for i in range(0,4):\n",
    "        if(num>15):\n",
    "            Vfile.write(\"defparam Mem2.INIT_{:01X} =256'h\".format(num-16))  #BRAM2 initialization syntax\n",
    "        else:\n",
    "            Vfile.write(\"defparam Mem1.INIT_{:01X} =256'h\".format(num))     #BRAM1 initialization syntax\n",
    "        for j in range(32):\n",
    "            b=img2[8*k:8*(k+1),(j+32*i)]                   #Slice 8*1 column from image\n",
    "            zero_one = map(int, b)                         #Map the column to hex number\n",
    "            n = int(''.join(map(str, zero_one)), 2)        #Append the hex number\n",
    "            Vfile.write('{:02x}'.format(n))                 #Write the hex number in verilog file\n",
    "        Vfile.write(\";\\n\")\n",
    "        num=num-1\n",
    "Vfile.write('//------------------------------------------------------------------------------------------\\n')\n",
    "Vfile.write('endmodule')\n",
    "Vfile.close()                                               #Close the verilog file\n",
    "\n",
    "#Programming FPGA\n",
    "pgm = input(\"Program the FPGA? (Y/N): \")\n",
    "if(pgm.lower()==\"y\"):\n",
    "    os.system('apio verify')\n",
    "    os.system('apio build')\n",
    "    os.system('apio upload')"
   ]
  },
  {
   "cell_type": "markdown",
   "id": "51d53750",
   "metadata": {},
   "source": [
    "## Windows:"
   ]
  },
  {
   "cell_type": "code",
   "execution_count": null,
   "id": "dddd5ba5",
   "metadata": {},
   "outputs": [],
   "source": [
    "import cv2\n",
    "import matplotlib.pyplot as plt\n",
    "\n",
    "path=input(\"Enter image name: \")\n",
    "thr=int(input(\"Enter threshold: \"))\n",
    "\n",
    "#read image\n",
    "img=cv2.imread(path,cv2.IMREAD_GRAYSCALE)\n",
    "img=cv2.resize(img,(128,64))\n",
    "img2=img.copy()\n",
    "\n",
    "#convert image to binary image\n",
    "for i in range(img.shape[0]):\n",
    "    for j in range(img.shape[1]):\n",
    "        if(img[i,j]>thr):\n",
    "            img[i,j]=255\n",
    "            img2[i,j]=1\n",
    "        else:\n",
    "            img[i,j]=0\n",
    "            img2[i,j]=0\n",
    "\n",
    "#show processed image\n",
    "print(\"Preview: \")\n",
    "imgplot1 = plt.imshow(cv2.cvtColor(img, cv2.COLOR_BGR2RGB))\n",
    "plt.show()\n",
    "\n",
    "#Print memory configuration\n",
    "num=31\n",
    "print(\"Copy the contents below:\")\n",
    "print('//------------------------------------------------------------------------------------------')\n",
    "for k in range(0,8):\n",
    "    for i in range(0,4):\n",
    "        if(num>15):\n",
    "            print(\"defparam Mem2.INIT_{:01X} =256'h\".format(num-16),end='')  #BRAM2 initialization syntax\n",
    "        else:\n",
    "            print(\"defparam Mem1.INIT_{:01X} =256'h\".format(num),end='')     #BRAM1 initialization syntax\n",
    "        for j in range(32):\n",
    "            b=img2[8*k:8*(k+1),(j+32*i)]                   #Slice 8*1 column from image\n",
    "            zero_one = map(int, b)                         #Map the column to hex number\n",
    "            n = int(''.join(map(str, zero_one)), 2)        #Append the hex numbers\n",
    "            print('{:02x}'.format(n),end='')               #Print the hex numbers\n",
    "        print(\";\")\n",
    "        num=num-1\n",
    "print('//------------------------------------------------------------------------------------------\\n')\n"
   ]
  }
 ],
 "metadata": {
  "kernelspec": {
   "display_name": "Python 3 (ipykernel)",
   "language": "python",
   "name": "python3"
  },
  "language_info": {
   "codemirror_mode": {
    "name": "ipython",
    "version": 3
   },
   "file_extension": ".py",
   "mimetype": "text/x-python",
   "name": "python",
   "nbconvert_exporter": "python",
   "pygments_lexer": "ipython3",
   "version": "3.8.10"
  }
 },
 "nbformat": 4,
 "nbformat_minor": 5
}
